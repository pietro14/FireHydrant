{
 "cells": [
  {
   "cell_type": "code",
   "execution_count": 1,
   "metadata": {},
   "outputs": [
    {
     "ename": "ModuleNotFoundError",
     "evalue": "No module named 'FireHydrant'",
     "output_type": "error",
     "traceback": [
      "\u001b[0;31m---------------------------------------------------------------------------\u001b[0m",
      "\u001b[0;31mModuleNotFoundError\u001b[0m                       Traceback (most recent call last)",
      "\u001b[0;32m<ipython-input-1-3de79a3e2201>\u001b[0m in \u001b[0;36m<module>\u001b[0;34m\u001b[0m\n\u001b[1;32m      7\u001b[0m \u001b[0mnp\u001b[0m\u001b[0;34m.\u001b[0m\u001b[0mseterr\u001b[0m\u001b[0;34m(\u001b[0m\u001b[0mdivide\u001b[0m\u001b[0;34m=\u001b[0m\u001b[0;34m'ignore'\u001b[0m\u001b[0;34m,\u001b[0m \u001b[0minvalid\u001b[0m\u001b[0;34m=\u001b[0m\u001b[0;34m'ignore'\u001b[0m\u001b[0;34m,\u001b[0m \u001b[0mover\u001b[0m\u001b[0;34m=\u001b[0m\u001b[0;34m'ignore'\u001b[0m\u001b[0;34m)\u001b[0m\u001b[0;34m\u001b[0m\u001b[0;34m\u001b[0m\u001b[0m\n\u001b[1;32m      8\u001b[0m \u001b[0;32mimport\u001b[0m \u001b[0mmatplotlib\u001b[0m\u001b[0;34m.\u001b[0m\u001b[0mpyplot\u001b[0m \u001b[0;32mas\u001b[0m \u001b[0mplt\u001b[0m\u001b[0;34m\u001b[0m\u001b[0;34m\u001b[0m\u001b[0m\n\u001b[0;32m----> 9\u001b[0;31m \u001b[0;32mfrom\u001b[0m \u001b[0mFireHydrant\u001b[0m\u001b[0;34m.\u001b[0m\u001b[0mTools\u001b[0m\u001b[0;34m.\u001b[0m\u001b[0muproothelpers\u001b[0m \u001b[0;32mimport\u001b[0m \u001b[0mNestNestObjArrayToJagged\u001b[0m\u001b[0;34m\u001b[0m\u001b[0;34m\u001b[0m\u001b[0m\n\u001b[0m\u001b[1;32m     10\u001b[0m \u001b[0;34m\u001b[0m\u001b[0m\n\u001b[1;32m     11\u001b[0m \u001b[0mget_ipython\u001b[0m\u001b[0;34m(\u001b[0m\u001b[0;34m)\u001b[0m\u001b[0;34m.\u001b[0m\u001b[0mrun_line_magic\u001b[0m\u001b[0;34m(\u001b[0m\u001b[0;34m'matplotlib'\u001b[0m\u001b[0;34m,\u001b[0m \u001b[0;34m'inline'\u001b[0m\u001b[0;34m)\u001b[0m\u001b[0;34m\u001b[0m\u001b[0;34m\u001b[0m\u001b[0m\n",
      "\u001b[0;31mModuleNotFoundError\u001b[0m: No module named 'FireHydrant'"
     ]
    }
   ],
   "source": [
    "from coffea import hist\n",
    "from coffea.analysis_objects import JaggedCandidateArray\n",
    "from coffea.processor import defaultdict_accumulator\n",
    "import coffea.processor as processor\n",
    "\n",
    "import numpy as np\n",
    "np.seterr(divide='ignore', invalid='ignore', over='ignore')\n",
    "import matplotlib.pyplot as plt\n",
    "from FireHydrant.Tools.uproothelpers import NestNestObjArrayToJagged\n",
    "\n",
    "%matplotlib inline\n",
    "%config InlineBackend.figure_format = 'retina'"
   ]
  },
  {
   "cell_type": "code",
   "execution_count": 3,
   "metadata": {},
   "outputs": [],
   "source": [
    "# setting deltaR=deltaPhi between TO and LJ (ideally <0.4)\n",
    "\n",
    "deltaPhi = np.random.normal(4, 1.5, 10)\n",
    "deltaPhi = np.absolute(deltaPhi)\n",
    "deltaPhi = np.floor(deltaPhi)/10\n",
    "\n",
    "# defining letponjets\n",
    "\n",
    "lptjs_pts = [10,20,30,40,50,70,80,90,100,110]\n",
    "lptjs_phis = np.zeros(10) + deltaPhi\n",
    "lptjs_counts = [0,1,2,1,3,3]\n",
    "lptjs_etas = np.zeros(10)\n",
    "lptjs_mass = np.zeros(10)\n",
    "\n",
    "leptonjets = JaggedCandidateArray.candidatesfromcounts(\n",
    "                    lptjs_counts,\n",
    "                    pt=lptjs_pts,\n",
    "                    eta=lptjs_etas,\n",
    "                    phi=lptjs_phis,\n",
    "                    mass=lptjs_mass)"
   ]
  },
  {
   "cell_type": "code",
   "execution_count": null,
   "metadata": {},
   "outputs": [],
   "source": [
    "# defining triggerobjects\n",
    "\n",
    "to_pts = [10,20,30,40,50,70,80,90,100,110]\n",
    "to_phis = np.zeros(10)\n",
    "to_counts = [1,0,3,0,2,4]\n",
    "to_etas = np.zeros(10)\n",
    "to_mass = np.zeros(10)\n",
    "\n",
    "\n",
    "triggerObjs = JaggedCandidateArray.candidatesfromcounts(\n",
    "                    to_counts,\n",
    "                    pt=to_pts,\n",
    "                    eta=to_etas,\n",
    "                    phi=to_phis,\n",
    "                    mass=to_mass)"
   ]
  },
  {
   "cell_type": "code",
   "execution_count": null,
   "metadata": {},
   "outputs": [],
   "source": [
    "print(leptonjets.phi)\n",
    "print(triggerObjs.phi)"
   ]
  },
  {
   "cell_type": "code",
   "execution_count": null,
   "metadata": {},
   "outputs": [],
   "source": []
  },
  {
   "cell_type": "code",
   "execution_count": null,
   "metadata": {},
   "outputs": [],
   "source": [
    "print(triggerObjs.phi)\n",
    "print(leptonjets.phi)\n"
   ]
  },
  {
   "cell_type": "code",
   "execution_count": null,
   "metadata": {},
   "outputs": [],
   "source": [
    "# setting cut parameters\n",
    "\n",
    "ptcut1 = 0   # [GeV]  for tag              # pt = 0 and etacut = 99999999 means NO CUTS\n",
    "ptcut2 = 0    # [GeV]  for probe\n",
    "etacut = 2.5"
   ]
  },
  {
   "cell_type": "code",
   "execution_count": null,
   "metadata": {},
   "outputs": [],
   "source": [
    "# define masks based on cuts parameters\n",
    "\n",
    "\n",
    "leptonjets.add_attributes(trgmask = leptonjets.match(triggerObjs, deltaRCut=0.4))         \n",
    "leptonjets.add_attributes(ptmask1 = ptcut1) \n",
    "leptonjets.add_attributes(ptmask2 = ptcut2) \n",
    "leptonjets.add_attributes(etamask = leptonjets.eta<etacut)     # eta or delta eta?\n",
    "\n"
   ]
  },
  {
   "cell_type": "code",
   "execution_count": null,
   "metadata": {},
   "outputs": [],
   "source": [
    "# 2-leptonjet-cut \n",
    "\n",
    "twoljs = leptonjets.counts >=2\n",
    "\n",
    "diljs = leptonjets[twoljs]\n",
    "#matchedidx = \n",
    "\n",
    "ditos = triggerObjs[twoljs]\n",
    "\n",
    "print(diljs.phi)    \n",
    "print(diljs.trgmask)\n",
    "\n"
   ]
  },
  {
   "cell_type": "code",
   "execution_count": null,
   "metadata": {},
   "outputs": [],
   "source": [
    "# distint pairs of objects\n",
    "\n",
    "diljs = diljs.distincts()\n",
    "diljs.i0\n",
    "          \n",
    "    "
   ]
  },
  {
   "cell_type": "code",
   "execution_count": null,
   "metadata": {},
   "outputs": [],
   "source": [
    "print(diljs.i0.phi)\n",
    "print(diljs.i1.phi)\n"
   ]
  },
  {
   "cell_type": "code",
   "execution_count": null,
   "metadata": {},
   "outputs": [],
   "source": [
    "tagidx = JaggedArray.fromfolding(leptonjets.pt.argsort()[:, 1], 1)               "
   ]
  },
  {
   "cell_type": "code",
   "execution_count": null,
   "metadata": {},
   "outputs": [],
   "source": [
    "\n",
    "# apply tag and probe method\n",
    "    \n",
    " \n",
    "\n",
    "\n",
    "\n",
    "\n",
    "\n",
    "# now i0 is the tag and i1 is the probe\n",
    "tag0Andprobe1_pt = diljs[leptonjets.i0.trgmask & \n",
    "                         leptonjets.i0.ptmask1 &\n",
    "                         leptonjets.i1.ptmask2 &\n",
    "                         leptonjets.i0.etamask &\n",
    "                         leptonjets.i1.trgmask].pt.flatten()  \n",
    "'''        \n",
    "tag0_pt = diljs[diljs.i0.trgmask &\n",
    "                diljs.i0.ptmask1 &\n",
    "                diljs.i1.ptmask2 &\n",
    "                diljs.i0.etamask                       \n",
    "               ].pt.flatten()\n",
    "    \n",
    "# now i1 is the tag and i0 is the probe     \n",
    "tag1Andprobe0_pt = diljs[diljs.i0.trgmask & \n",
    "                         diljs.i1.ptmask1 &\n",
    "                         diljs.i0.ptmask2 &\n",
    "                         diljs.i1.etamask &\n",
    "                         diljs.i1.trgmask].pt.flatten()  \n",
    "        \n",
    "tag1_pt = diljs[diljs.i1.trgmask & \n",
    "                diljs.i1.ptmask1 &\n",
    "                diljs.i0.ptmask2 &\n",
    "                diljs.i1.etamask   \n",
    "               ].pt.flatten()\n",
    "        \n",
    "# appending the two pairs of pt arrays\n",
    "tot_tag_pt = np.append(tag0_pt, tag1_pt)\n",
    "tot_tagAndprobe_pt = np.append(tag0Andprobe1_pt, tag1Andprobe0_pt)\n",
    "               \n",
    "'''   "
   ]
  },
  {
   "cell_type": "code",
   "execution_count": null,
   "metadata": {},
   "outputs": [],
   "source": []
  },
  {
   "cell_type": "code",
   "execution_count": null,
   "metadata": {},
   "outputs": [],
   "source": []
  }
 ],
 "metadata": {
  "kernelspec": {
   "display_name": "Python 3",
   "language": "python",
   "name": "python3"
  },
  "language_info": {
   "codemirror_mode": {
    "name": "ipython",
    "version": 3
   },
   "file_extension": ".py",
   "mimetype": "text/x-python",
   "name": "python",
   "nbconvert_exporter": "python",
   "pygments_lexer": "ipython3",
   "version": "3.7.3"
  }
 },
 "nbformat": 4,
 "nbformat_minor": 4
}
